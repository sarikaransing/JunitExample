{
  "nbformat": 4,
  "nbformat_minor": 0,
  "metadata": {
    "colab": {
      "provenance": [],
      "authorship_tag": "ABX9TyP8nv8qfVXvRGT48PL6UwA4",
      "include_colab_link": true
    },
    "kernelspec": {
      "name": "python3",
      "display_name": "Python 3"
    },
    "language_info": {
      "name": "python"
    }
  },
  "cells": [
    {
      "cell_type": "markdown",
      "metadata": {
        "id": "view-in-github",
        "colab_type": "text"
      },
      "source": [
        "<a href=\"https://colab.research.google.com/github/sarikaransing/JunitExample/blob/development/Python_Assessment.ipynb\" target=\"_parent\"><img src=\"https://colab.research.google.com/assets/colab-badge.svg\" alt=\"Open In Colab\"/></a>"
      ]
    },
    {
      "cell_type": "code",
      "execution_count": null,
      "metadata": {
        "id": "KiUOlkkBwCFQ"
      },
      "outputs": [],
      "source": []
    },
    {
      "cell_type": "markdown",
      "source": [
        "Strips whitespace from all string values\n",
        "\n",
        "Converts the email to lowercase\n",
        "\n",
        "Converts is_active to a Boolean (True/False)"
      ],
      "metadata": {
        "id": "ETXtp3TEwJyp"
      }
    },
    {
      "cell_type": "code",
      "source": [
        "customer_data = {\n",
        "    \"id\": \" 123 \",\n",
        "    \"name\": \" Sarika Ransing \",\n",
        "    \"email\": \"Sariki@example.COM\",\n",
        "    \"is_active\": \"true\"\n",
        "}\n",
        "\n",
        "print(customer_data[\"name\"].strip())\n",
        "\n",
        "#print(customer_data[\"is_active\"].true)"
      ],
      "metadata": {
        "colab": {
          "base_uri": "https://localhost:8080/"
        },
        "id": "LBSOC274wSij",
        "outputId": "53703084-98fd-421e-adc7-ce7e9381d848"
      },
      "execution_count": 8,
      "outputs": [
        {
          "output_type": "stream",
          "name": "stdout",
          "text": [
            "Sarika Ransing\n"
          ]
        }
      ]
    },
    {
      "cell_type": "code",
      "source": [],
      "metadata": {
        "id": "UgHCyuFCwlpJ"
      },
      "execution_count": null,
      "outputs": []
    }
  ]
}