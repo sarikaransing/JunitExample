{
  "nbformat": 4,
  "nbformat_minor": 0,
  "metadata": {
    "colab": {
      "provenance": [],
      "authorship_tag": "ABX9TyP70aDBpTaENj2Og36CcRYt",
      "include_colab_link": true
    },
    "kernelspec": {
      "name": "python3",
      "display_name": "Python 3"
    },
    "language_info": {
      "name": "python"
    }
  },
  "cells": [
    {
      "cell_type": "markdown",
      "metadata": {
        "id": "view-in-github",
        "colab_type": "text"
      },
      "source": [
        "<a href=\"https://colab.research.google.com/github/sarikaransing/JunitExample/blob/master/total_spent_by_customer_more_than_one_order.ipynb\" target=\"_parent\"><img src=\"https://colab.research.google.com/assets/colab-badge.svg\" alt=\"Open In Colab\"/></a>"
      ]
    },
    {
      "cell_type": "code",
      "execution_count": 19,
      "metadata": {
        "colab": {
          "base_uri": "https://localhost:8080/"
        },
        "id": "PlRcHxBvs1Sl",
        "outputId": "eb907d7b-301f-4ea7-d22f-dd3b51d02ed3"
      },
      "outputs": [
        {
          "output_type": "stream",
          "name": "stdout",
          "text": [
            "{101: 600, 103: 300, 102: 150}\n"
          ]
        }
      ],
      "source": [
        "\n",
        "import  pandas  as  pd\n",
        "orders = [\n",
        "    {\"order_id\": 1, \"cust_id\": 101, \"amount\": 200},\n",
        "    {\"order_id\": 2, \"cust_id\": 102, \"amount\": None},\n",
        "    {\"order_id\": 3, \"cust_id\": 101, \"amount\": 180},\n",
        "    {\"order_id\": 4, \"cust_id\": 103, \"amount\": 300},\n",
        "    {\"order_id\": 5, \"cust_id\": 101, \"amount\": 220},\n",
        "    {\"order_id\": 6, \"cust_id\": 102, \"amount\": 150},\n",
        "]\n",
        "\n",
        "#print(orders)\n",
        "\n",
        "df=pd.read_csv(\"/content/Cleaned_Customer_Data.txt\")\n",
        "#print(df)\n",
        "\n",
        "\n",
        "def total_spent_by_cust(orders):\n",
        "  total_spent={}\n",
        "  for order in orders:\n",
        "    cust_id=order[\"cust_id\"]\n",
        "    amount=order[\"amount\"]\n",
        "    if amount is None:\n",
        "            continue  #\n",
        "    if cust_id in total_spent:\n",
        "      total_spent[cust_id]+=amount\n",
        "    else:\n",
        "      total_spent[cust_id]=amount\n",
        "  return total_spent\n",
        "\n",
        "result=total_spent_by_cust(orders)\n",
        "print(result)"
      ]
    },
    {
      "cell_type": "code",
      "source": [
        "import  pandas  as  pd\n",
        "orders = [\n",
        "    {\"order_id\": 1, \"cust_id\": 101, \"amount\": 200},\n",
        "    {\"order_id\": 2, \"cust_id\": 102, \"amount\": None},\n",
        "    {\"order_id\": 3, \"cust_id\": 101, \"amount\": 180},\n",
        "    {\"order_id\": 4, \"cust_id\": 103, \"amount\": 300},\n",
        "    {\"order_id\": 5, \"cust_id\": 101, \"amount\": 220},\n",
        "    {\"order_id\": 6, \"cust_id\": 102, \"amount\": 150},\n",
        "]\n",
        "\n",
        "#print(orders)\n",
        "\n",
        "df=pd.read_csv(\"/content/Cleaned_Customer_Data.txt\")\n",
        "#print(df)\n",
        "\n",
        "\n",
        "def total_spent_by_cust(orders):\n",
        "  total_spent={}\n",
        "  for order in orders:\n",
        "    cust_id=order[\"cust_id\"]\n",
        "    amount=order[\"amount\"]\n",
        "    if amount is  None:\n",
        "      continue\n",
        "    if cust_id in total_spent:\n",
        "      total_spent[cust_id]+=amount\n",
        "    else:\n",
        "      total_spent[cust_id]=amount\n",
        "  return total_spent\n",
        "\n",
        "result=total_spent_by_cust(orders)\n",
        "print(result)"
      ],
      "metadata": {
        "colab": {
          "base_uri": "https://localhost:8080/"
        },
        "id": "8kDw-qdizX70",
        "outputId": "62d7b807-b40c-481e-ea9c-051288a2030e"
      },
      "execution_count": 23,
      "outputs": [
        {
          "output_type": "stream",
          "name": "stdout",
          "text": [
            "{101: 600, 103: 300, 102: 150}\n"
          ]
        }
      ]
    },
    {
      "cell_type": "code",
      "source": [
        "#find  out  the who placed more  than one  order\n",
        "\n",
        "def more_than_one_order(orders):\n",
        "  order_count={}\n",
        "  for  order in orders:\n",
        "    cust_id=order[\"cust_id\"]\n",
        "    if cust_id in  order_count:\n",
        "      order_count[cust_id]+=1\n",
        "    else:order_count[cust_id]=1\n",
        "  return {cust_id: count for cust_id, count in order_count.items() if count > 1}\n",
        "result=more_than_one_order(orders)\n",
        "print(result)\n"
      ],
      "metadata": {
        "colab": {
          "base_uri": "https://localhost:8080/"
        },
        "id": "eZ9FN3CO7j_b",
        "outputId": "7014f3eb-1970-4f95-c28c-dbb405c9b6f1"
      },
      "execution_count": 31,
      "outputs": [
        {
          "output_type": "stream",
          "name": "stdout",
          "text": [
            "{101: 3, 102: 2}\n"
          ]
        }
      ]
    }
  ]
}